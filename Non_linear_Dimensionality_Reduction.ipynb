{
  "nbformat": 4,
  "nbformat_minor": 0,
  "metadata": {
    "colab": {
      "name": "E2_A4.ipynb",
      "provenance": [],
      "collapsed_sections": []
    },
    "kernelspec": {
      "name": "python3",
      "display_name": "Python 3"
    },
    "language_info": {
      "name": "python"
    }
  },
  "cells": [
    {
      "cell_type": "code",
      "metadata": {
        "id": "ZZkAOem3Bjkr"
      },
      "source": [
        "import numpy as np"
      ],
      "execution_count": null,
      "outputs": []
    },
    {
      "cell_type": "markdown",
      "metadata": {
        "id": "inMTPZX_QfuQ"
      },
      "source": [
        "Implement Sammon Mapping in a function called sammon. It should take as input: (a) the data X to reduce, as an n X p matrix (n observations by p features); (b) the maximum number iter of iterations for step 3; (c) the error threshold epsilon for step 3; and (d) the learning rate alpha for step 4. It should generate as output a n X 2 vector with the final two-dimensional layout."
      ]
    },
    {
      "cell_type": "code",
      "metadata": {
        "id": "bLTbdVmOzvIW"
      },
      "source": [
        "def sammon(X, iter, e, alpha=0.3):\n",
        "    y = np.random.rand(X.shape[0],2)\n",
        "    ite = 0\n",
        "    while(True):\n",
        "        ite+=1\n",
        "        stress = 0\n",
        "        #compute the stress E on Y\n",
        "        sum_delta = 0\n",
        "        sum_frac = 0\n",
        "        \n",
        "        for i in range(X.shape[0]):\n",
        "            for j in range(i):\n",
        "                original_space_dist = np.linalg.norm(X[i]-X[j])\n",
        "                transformed_space_dist = np.linalg.norm(y[i]-y[j])\n",
        "                sum_delta += original_space_dist\n",
        "                \n",
        "                sum_frac += (((original_space_dist - transformed_space_dist)**2)/original_space_dist)\n",
        "                \n",
        "\n",
        "        stress = (1/sum_delta) * (sum_frac)\n",
        "        #print(stress)\n",
        "        \n",
        "        y_new = np.zeros_like(y)\n",
        "        for i in range(y.shape[0]):\n",
        "            #update y(t+1)\n",
        "            derivative_1 = np.zeros(2)\n",
        "            derivative_2 = np.zeros(2)\n",
        "\n",
        "            for j in range(y.shape[0]):\n",
        "                if(i != j):\n",
        "                    original_space_dist = np.linalg.norm(X[i]-X[j])\n",
        "                    transformed_space_dist = np.linalg.norm(y[i]-y[j])\n",
        "                    a = (original_space_dist - transformed_space_dist) / (original_space_dist * transformed_space_dist)\n",
        "                    derivative_1 += (a*(y[i]-y[j]))\n",
        "\n",
        "                    b = 1/ (original_space_dist * transformed_space_dist)\n",
        "                    c = (original_space_dist - transformed_space_dist) - (((y[i]-y[j])**2)/transformed_space_dist)*(1+((original_space_dist - transformed_space_dist)/transformed_space_dist))\n",
        "                    derivative_2 += (b * c)\n",
        "            derivative_1 = (-2/sum_delta) * (derivative_1)\n",
        "            derivative_2 = (-2/sum_delta) * (derivative_2)\n",
        "\n",
        "\n",
        "            try:\n",
        "                y_new[i] = y[i] - alpha * (derivative_1/derivative_2)\n",
        "\n",
        "            except ZeroDivisionError:\n",
        "                y_new[i] = y[i] - alpha * (derivative_1/np.array([0.000001,0.000001]))\n",
        "        y = y_new.copy()    \n",
        "        #print(y[0])\n",
        "        if((ite >= iter) or (stress < e)):\n",
        "            break\n",
        "    return y"
      ],
      "execution_count": null,
      "outputs": []
    },
    {
      "cell_type": "code",
      "metadata": {
        "colab": {
          "base_uri": "https://localhost:8080/"
        },
        "id": "NN6q4jvP9SGX",
        "outputId": "a417c30c-b574-401b-d114-71741daadcce"
      },
      "source": [
        "X = np.random.rand(50,20)\n",
        "y = sammon(X, 10, 0.1,0.4)\n",
        "print(y)"
      ],
      "execution_count": null,
      "outputs": [
        {
          "output_type": "stream",
          "text": [
            "[[ 0.47570537  0.48678966]\n",
            " [ 0.48076722  0.49260308]\n",
            " [ 0.48676765  0.49620147]\n",
            " [ 0.47873337  0.48893469]\n",
            " [ 0.48735712  0.49689319]\n",
            " [ 0.4773342   0.48969024]\n",
            " [ 0.48725919  0.49690725]\n",
            " [ 0.47667664  0.48677795]\n",
            " [ 0.48678838  0.49618959]\n",
            " [ 0.48068136  0.49256697]\n",
            " [ 0.4811904   0.49285607]\n",
            " [ 2.12567008 -1.17820584]\n",
            " [ 0.4806834   0.49259343]\n",
            " [ 1.70399518  2.00553035]\n",
            " [ 0.47310719  0.48719698]\n",
            " [ 0.48356013  0.49739065]\n",
            " [ 0.4846368   0.49600111]\n",
            " [ 0.48118092  0.49283129]\n",
            " [ 0.48238988  0.49400014]\n",
            " [ 0.48433411  0.49608649]\n",
            " [ 0.48078407  0.49260749]\n",
            " [ 0.49442077  0.4941318 ]\n",
            " [ 0.48092471  0.49258219]\n",
            " [ 0.48066701  0.47048057]\n",
            " [ 0.4746306   0.48682591]\n",
            " [ 0.47645039  0.48724125]\n",
            " [ 0.4746243   0.48691226]\n",
            " [ 0.478251    0.48769246]\n",
            " [ 0.47965137  0.49028134]\n",
            " [ 0.49442513  0.49399162]\n",
            " [ 0.47517197  0.48654528]\n",
            " [ 0.48443863  0.49509358]\n",
            " [ 0.4843857   0.49504134]\n",
            " [ 0.4809618   0.47052749]\n",
            " [ 0.48231447  0.49382202]\n",
            " [ 0.47980876  0.49093908]\n",
            " [ 0.48467358  0.49616416]\n",
            " [ 0.48240678  0.49397386]\n",
            " [ 0.48248186  0.49031079]\n",
            " [ 0.47545461  0.48684425]\n",
            " [ 0.47504857  0.48654614]\n",
            " [ 0.47815368  0.48726258]\n",
            " [ 0.48072091  0.49258775]\n",
            " [ 0.48366299  0.4973773 ]\n",
            " [ 0.72219524  2.17131103]\n",
            " [ 0.48193913  0.49029831]\n",
            " [ 0.48531107  0.50009076]\n",
            " [ 0.48516619  0.50012304]\n",
            " [ 0.48241493  0.49380438]\n",
            " [ 0.47308859  0.48719864]]\n"
          ],
          "name": "stdout"
        }
      ]
    },
    {
      "cell_type": "code",
      "metadata": {
        "id": "LVEjacG0PXRD"
      },
      "source": [
        ""
      ],
      "execution_count": null,
      "outputs": []
    }
  ]
}