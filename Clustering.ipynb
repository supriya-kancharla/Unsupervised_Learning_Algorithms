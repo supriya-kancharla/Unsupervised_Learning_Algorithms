{
  "nbformat": 4,
  "nbformat_minor": 0,
  "metadata": {
    "colab": {
      "name": "E1_A4.ipynb",
      "provenance": [],
      "collapsed_sections": []
    },
    "kernelspec": {
      "name": "python3",
      "display_name": "Python 3"
    },
    "language_info": {
      "name": "python"
    }
  },
  "cells": [
    {
      "cell_type": "code",
      "metadata": {
        "id": "aMJn0pwYPHWv"
      },
      "source": [
        "import pandas as pd\n",
        "import numpy as np\n",
        "from sklearn.cluster import KMeans\n",
        "from matplotlib import pyplot as plt\n",
        "from sklearn.datasets import make_blobs\n",
        "from sklearn.metrics.cluster import homogeneity_score"
      ],
      "execution_count": null,
      "outputs": []
    },
    {
      "cell_type": "markdown",
      "metadata": {
        "id": "jR7Lk0xjQMhC"
      },
      "source": [
        "Implement the Bisecting k-Means algorithm in a function called bkmeans. It should take as input: (a) the data X to cluster, as a n X p matrix (n observations by p features); (b) the number k of clusters; and (c) the number iter of iterations for step 3. It should generate as output a n X 1 vector with the cluster indices for each of the n observations."
      ]
    },
    {
      "cell_type": "code",
      "metadata": {
        "id": "GnFnlvcHY4pt"
      },
      "source": [
        "def bkmeans(X, K, iter):\n",
        "    min_sse = np.inf\n",
        "    centroids_list = []\n",
        "    labels_list = []\n",
        "    for i in range(iter):\n",
        "        clf = KMeans(n_clusters=2)\n",
        "        clf.fit(X)\n",
        "        if(clf.inertia_ < min_sse):\n",
        "            centroids = clf.cluster_centers_\n",
        "            labels = clf.labels_\n",
        "    centroids_list.append(centroids[0])\n",
        "    centroids_list.append(centroids[1])\n",
        "    labels_list = labels\n",
        "\n",
        "    while(len(centroids_list) < K):\n",
        "        max_sse = -np.inf\n",
        "        \n",
        "        #find the cluster with largest SSE to divide into 2 clusters\n",
        "        for i in range(len(centroids_list)):\n",
        "            points = X[labels_list == i]\n",
        "            sse = 0\n",
        "            for j in range(len(points)):\n",
        "                sse += np.sum((points[j] - centroids_list[i])**2)       \n",
        "            if(max_sse < sse ):\n",
        "                max_sse = sse\n",
        "                index = i\n",
        "        \n",
        "        labels_list[labels_list == index] = -1\n",
        "        \n",
        "        cluster_indices = np.where(labels_list == -1)[0]\n",
        "\n",
        "        if(max(labels_list) > index):\n",
        "            labels_list[labels_list > index] = labels_list[labels_list > index] - 1\n",
        "          \n",
        "        del centroids_list[index]\n",
        "        \n",
        "        min_sse = np.inf\n",
        "        for i in range(iter):\n",
        "            clf = KMeans(n_clusters=2)\n",
        "            clf.fit(X[labels_list == -1])\n",
        "            if(clf.inertia_ < min_sse):\n",
        "                centroids = clf.cluster_centers_\n",
        "                labels = clf.labels_\n",
        "        labels = labels + max(labels_list)+1\n",
        "        centroids_list.append(centroids[0])\n",
        "        centroids_list.append(centroids[0])\n",
        "        labels_list[cluster_indices] = labels\n",
        "    return  labels_list\n"
      ],
      "execution_count": null,
      "outputs": []
    },
    {
      "cell_type": "markdown",
      "metadata": {
        "id": "fOyqjDPjx4kG"
      },
      "source": [
        "Testing the implemented function using some randomly generated blobs datasets"
      ]
    },
    {
      "cell_type": "code",
      "metadata": {
        "id": "qBxh4JmyRS21",
        "colab": {
          "base_uri": "https://localhost:8080/"
        },
        "outputId": "d4c97a49-0a67-4f03-cd25-8dcbd3fdc4ea"
      },
      "source": [
        "x, y = make_blobs(n_samples=1000,centers=4,n_features=20,cluster_std=1.6)\n",
        "pred = bkmeans(x,4,10)\n",
        "print(\"Homogenity Score : \",homogeneity_score(y, pred))"
      ],
      "execution_count": null,
      "outputs": [
        {
          "output_type": "stream",
          "text": [
            "Homogenity Score :  1.0\n"
          ],
          "name": "stdout"
        }
      ]
    },
    {
      "cell_type": "code",
      "metadata": {
        "colab": {
          "base_uri": "https://localhost:8080/"
        },
        "id": "Y47MS7Cnu1PF",
        "outputId": "a19b39a8-7fc8-4033-f6dd-a142a7fd24b0"
      },
      "source": [
        "x, y = make_blobs(n_samples=1000,centers=6,n_features=50)\n",
        "pred = bkmeans(x,6,10)\n",
        "print(\"Homogenity Score : \",homogeneity_score(y, pred))"
      ],
      "execution_count": null,
      "outputs": [
        {
          "output_type": "stream",
          "text": [
            "Homogenity Score :  0.8711785654173543\n"
          ],
          "name": "stdout"
        }
      ]
    }
  ]
}